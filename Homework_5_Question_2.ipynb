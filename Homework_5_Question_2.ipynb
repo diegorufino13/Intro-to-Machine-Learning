{
  "nbformat": 4,
  "nbformat_minor": 0,
  "metadata": {
    "colab": {
      "provenance": []
    },
    "kernelspec": {
      "name": "python3",
      "display_name": "Python 3"
    },
    "language_info": {
      "name": "python"
    }
  },
  "cells": [
    {
      "cell_type": "code",
      "source": [
        "import numpy as np\n",
        "import pandas as pd\n",
        "import torch\n",
        "from sklearn.preprocessing import StandardScaler\n",
        "import torch\n",
        "import torch.optim as optim\n",
        "import matplotlib.pyplot as plt\n"
      ],
      "metadata": {
        "id": "-61a3pVD8AyS"
      },
      "execution_count": 57,
      "outputs": []
    },
    {
      "cell_type": "code",
      "execution_count": 58,
      "metadata": {
        "colab": {
          "base_uri": "https://localhost:8080/",
          "height": 243
        },
        "id": "5EzOvDy47sUE",
        "outputId": "9b58f742-f36f-4f9e-f255-0956cbc478e4"
      },
      "outputs": [
        {
          "output_type": "stream",
          "name": "stdout",
          "text": [
            "Drive already mounted at /content/drive; to attempt to forcibly remount, call drive.mount(\"/content/drive\", force_remount=True).\n"
          ]
        },
        {
          "output_type": "execute_result",
          "data": {
            "text/plain": [
              "      price  area  bedrooms  bathrooms  stories  mainroad  guestroom  \\\n",
              "0  13300000  7420         4          2        3         1          0   \n",
              "1  12250000  8960         4          4        4         1          0   \n",
              "2  12250000  9960         3          2        2         1          0   \n",
              "3  12215000  7500         4          2        2         1          0   \n",
              "4  11410000  7420         4          1        2         1          1   \n",
              "\n",
              "   basement  hotwaterheating  airconditioning  parking  prefarea  \\\n",
              "0         0                0                1        2         1   \n",
              "1         0                0                1        3         0   \n",
              "2         1                0                0        2         1   \n",
              "3         1                0                1        3         1   \n",
              "4         1                0                1        2         0   \n",
              "\n",
              "  furnishingstatus  \n",
              "0        furnished  \n",
              "1        furnished  \n",
              "2   semi-furnished  \n",
              "3        furnished  \n",
              "4        furnished  "
            ],
            "text/html": [
              "\n",
              "  <div id=\"df-e8b8e6bc-f1f0-459e-a3aa-3ce69ec889c0\" class=\"colab-df-container\">\n",
              "    <div>\n",
              "<style scoped>\n",
              "    .dataframe tbody tr th:only-of-type {\n",
              "        vertical-align: middle;\n",
              "    }\n",
              "\n",
              "    .dataframe tbody tr th {\n",
              "        vertical-align: top;\n",
              "    }\n",
              "\n",
              "    .dataframe thead th {\n",
              "        text-align: right;\n",
              "    }\n",
              "</style>\n",
              "<table border=\"1\" class=\"dataframe\">\n",
              "  <thead>\n",
              "    <tr style=\"text-align: right;\">\n",
              "      <th></th>\n",
              "      <th>price</th>\n",
              "      <th>area</th>\n",
              "      <th>bedrooms</th>\n",
              "      <th>bathrooms</th>\n",
              "      <th>stories</th>\n",
              "      <th>mainroad</th>\n",
              "      <th>guestroom</th>\n",
              "      <th>basement</th>\n",
              "      <th>hotwaterheating</th>\n",
              "      <th>airconditioning</th>\n",
              "      <th>parking</th>\n",
              "      <th>prefarea</th>\n",
              "      <th>furnishingstatus</th>\n",
              "    </tr>\n",
              "  </thead>\n",
              "  <tbody>\n",
              "    <tr>\n",
              "      <th>0</th>\n",
              "      <td>13300000</td>\n",
              "      <td>7420</td>\n",
              "      <td>4</td>\n",
              "      <td>2</td>\n",
              "      <td>3</td>\n",
              "      <td>1</td>\n",
              "      <td>0</td>\n",
              "      <td>0</td>\n",
              "      <td>0</td>\n",
              "      <td>1</td>\n",
              "      <td>2</td>\n",
              "      <td>1</td>\n",
              "      <td>furnished</td>\n",
              "    </tr>\n",
              "    <tr>\n",
              "      <th>1</th>\n",
              "      <td>12250000</td>\n",
              "      <td>8960</td>\n",
              "      <td>4</td>\n",
              "      <td>4</td>\n",
              "      <td>4</td>\n",
              "      <td>1</td>\n",
              "      <td>0</td>\n",
              "      <td>0</td>\n",
              "      <td>0</td>\n",
              "      <td>1</td>\n",
              "      <td>3</td>\n",
              "      <td>0</td>\n",
              "      <td>furnished</td>\n",
              "    </tr>\n",
              "    <tr>\n",
              "      <th>2</th>\n",
              "      <td>12250000</td>\n",
              "      <td>9960</td>\n",
              "      <td>3</td>\n",
              "      <td>2</td>\n",
              "      <td>2</td>\n",
              "      <td>1</td>\n",
              "      <td>0</td>\n",
              "      <td>1</td>\n",
              "      <td>0</td>\n",
              "      <td>0</td>\n",
              "      <td>2</td>\n",
              "      <td>1</td>\n",
              "      <td>semi-furnished</td>\n",
              "    </tr>\n",
              "    <tr>\n",
              "      <th>3</th>\n",
              "      <td>12215000</td>\n",
              "      <td>7500</td>\n",
              "      <td>4</td>\n",
              "      <td>2</td>\n",
              "      <td>2</td>\n",
              "      <td>1</td>\n",
              "      <td>0</td>\n",
              "      <td>1</td>\n",
              "      <td>0</td>\n",
              "      <td>1</td>\n",
              "      <td>3</td>\n",
              "      <td>1</td>\n",
              "      <td>furnished</td>\n",
              "    </tr>\n",
              "    <tr>\n",
              "      <th>4</th>\n",
              "      <td>11410000</td>\n",
              "      <td>7420</td>\n",
              "      <td>4</td>\n",
              "      <td>1</td>\n",
              "      <td>2</td>\n",
              "      <td>1</td>\n",
              "      <td>1</td>\n",
              "      <td>1</td>\n",
              "      <td>0</td>\n",
              "      <td>1</td>\n",
              "      <td>2</td>\n",
              "      <td>0</td>\n",
              "      <td>furnished</td>\n",
              "    </tr>\n",
              "  </tbody>\n",
              "</table>\n",
              "</div>\n",
              "    <div class=\"colab-df-buttons\">\n",
              "\n",
              "  <div class=\"colab-df-container\">\n",
              "    <button class=\"colab-df-convert\" onclick=\"convertToInteractive('df-e8b8e6bc-f1f0-459e-a3aa-3ce69ec889c0')\"\n",
              "            title=\"Convert this dataframe to an interactive table.\"\n",
              "            style=\"display:none;\">\n",
              "\n",
              "  <svg xmlns=\"http://www.w3.org/2000/svg\" height=\"24px\" viewBox=\"0 -960 960 960\">\n",
              "    <path d=\"M120-120v-720h720v720H120Zm60-500h600v-160H180v160Zm220 220h160v-160H400v160Zm0 220h160v-160H400v160ZM180-400h160v-160H180v160Zm440 0h160v-160H620v160ZM180-180h160v-160H180v160Zm440 0h160v-160H620v160Z\"/>\n",
              "  </svg>\n",
              "    </button>\n",
              "\n",
              "  <style>\n",
              "    .colab-df-container {\n",
              "      display:flex;\n",
              "      gap: 12px;\n",
              "    }\n",
              "\n",
              "    .colab-df-convert {\n",
              "      background-color: #E8F0FE;\n",
              "      border: none;\n",
              "      border-radius: 50%;\n",
              "      cursor: pointer;\n",
              "      display: none;\n",
              "      fill: #1967D2;\n",
              "      height: 32px;\n",
              "      padding: 0 0 0 0;\n",
              "      width: 32px;\n",
              "    }\n",
              "\n",
              "    .colab-df-convert:hover {\n",
              "      background-color: #E2EBFA;\n",
              "      box-shadow: 0px 1px 2px rgba(60, 64, 67, 0.3), 0px 1px 3px 1px rgba(60, 64, 67, 0.15);\n",
              "      fill: #174EA6;\n",
              "    }\n",
              "\n",
              "    .colab-df-buttons div {\n",
              "      margin-bottom: 4px;\n",
              "    }\n",
              "\n",
              "    [theme=dark] .colab-df-convert {\n",
              "      background-color: #3B4455;\n",
              "      fill: #D2E3FC;\n",
              "    }\n",
              "\n",
              "    [theme=dark] .colab-df-convert:hover {\n",
              "      background-color: #434B5C;\n",
              "      box-shadow: 0px 1px 3px 1px rgba(0, 0, 0, 0.15);\n",
              "      filter: drop-shadow(0px 1px 2px rgba(0, 0, 0, 0.3));\n",
              "      fill: #FFFFFF;\n",
              "    }\n",
              "  </style>\n",
              "\n",
              "    <script>\n",
              "      const buttonEl =\n",
              "        document.querySelector('#df-e8b8e6bc-f1f0-459e-a3aa-3ce69ec889c0 button.colab-df-convert');\n",
              "      buttonEl.style.display =\n",
              "        google.colab.kernel.accessAllowed ? 'block' : 'none';\n",
              "\n",
              "      async function convertToInteractive(key) {\n",
              "        const element = document.querySelector('#df-e8b8e6bc-f1f0-459e-a3aa-3ce69ec889c0');\n",
              "        const dataTable =\n",
              "          await google.colab.kernel.invokeFunction('convertToInteractive',\n",
              "                                                    [key], {});\n",
              "        if (!dataTable) return;\n",
              "\n",
              "        const docLinkHtml = 'Like what you see? Visit the ' +\n",
              "          '<a target=\"_blank\" href=https://colab.research.google.com/notebooks/data_table.ipynb>data table notebook</a>'\n",
              "          + ' to learn more about interactive tables.';\n",
              "        element.innerHTML = '';\n",
              "        dataTable['output_type'] = 'display_data';\n",
              "        await google.colab.output.renderOutput(dataTable, element);\n",
              "        const docLink = document.createElement('div');\n",
              "        docLink.innerHTML = docLinkHtml;\n",
              "        element.appendChild(docLink);\n",
              "      }\n",
              "    </script>\n",
              "  </div>\n",
              "\n",
              "\n",
              "<div id=\"df-672414c7-8cf9-4ae6-9906-6bc576e14356\">\n",
              "  <button class=\"colab-df-quickchart\" onclick=\"quickchart('df-672414c7-8cf9-4ae6-9906-6bc576e14356')\"\n",
              "            title=\"Suggest charts\"\n",
              "            style=\"display:none;\">\n",
              "\n",
              "<svg xmlns=\"http://www.w3.org/2000/svg\" height=\"24px\"viewBox=\"0 0 24 24\"\n",
              "     width=\"24px\">\n",
              "    <g>\n",
              "        <path d=\"M19 3H5c-1.1 0-2 .9-2 2v14c0 1.1.9 2 2 2h14c1.1 0 2-.9 2-2V5c0-1.1-.9-2-2-2zM9 17H7v-7h2v7zm4 0h-2V7h2v10zm4 0h-2v-4h2v4z\"/>\n",
              "    </g>\n",
              "</svg>\n",
              "  </button>\n",
              "\n",
              "<style>\n",
              "  .colab-df-quickchart {\n",
              "      --bg-color: #E8F0FE;\n",
              "      --fill-color: #1967D2;\n",
              "      --hover-bg-color: #E2EBFA;\n",
              "      --hover-fill-color: #174EA6;\n",
              "      --disabled-fill-color: #AAA;\n",
              "      --disabled-bg-color: #DDD;\n",
              "  }\n",
              "\n",
              "  [theme=dark] .colab-df-quickchart {\n",
              "      --bg-color: #3B4455;\n",
              "      --fill-color: #D2E3FC;\n",
              "      --hover-bg-color: #434B5C;\n",
              "      --hover-fill-color: #FFFFFF;\n",
              "      --disabled-bg-color: #3B4455;\n",
              "      --disabled-fill-color: #666;\n",
              "  }\n",
              "\n",
              "  .colab-df-quickchart {\n",
              "    background-color: var(--bg-color);\n",
              "    border: none;\n",
              "    border-radius: 50%;\n",
              "    cursor: pointer;\n",
              "    display: none;\n",
              "    fill: var(--fill-color);\n",
              "    height: 32px;\n",
              "    padding: 0;\n",
              "    width: 32px;\n",
              "  }\n",
              "\n",
              "  .colab-df-quickchart:hover {\n",
              "    background-color: var(--hover-bg-color);\n",
              "    box-shadow: 0 1px 2px rgba(60, 64, 67, 0.3), 0 1px 3px 1px rgba(60, 64, 67, 0.15);\n",
              "    fill: var(--button-hover-fill-color);\n",
              "  }\n",
              "\n",
              "  .colab-df-quickchart-complete:disabled,\n",
              "  .colab-df-quickchart-complete:disabled:hover {\n",
              "    background-color: var(--disabled-bg-color);\n",
              "    fill: var(--disabled-fill-color);\n",
              "    box-shadow: none;\n",
              "  }\n",
              "\n",
              "  .colab-df-spinner {\n",
              "    border: 2px solid var(--fill-color);\n",
              "    border-color: transparent;\n",
              "    border-bottom-color: var(--fill-color);\n",
              "    animation:\n",
              "      spin 1s steps(1) infinite;\n",
              "  }\n",
              "\n",
              "  @keyframes spin {\n",
              "    0% {\n",
              "      border-color: transparent;\n",
              "      border-bottom-color: var(--fill-color);\n",
              "      border-left-color: var(--fill-color);\n",
              "    }\n",
              "    20% {\n",
              "      border-color: transparent;\n",
              "      border-left-color: var(--fill-color);\n",
              "      border-top-color: var(--fill-color);\n",
              "    }\n",
              "    30% {\n",
              "      border-color: transparent;\n",
              "      border-left-color: var(--fill-color);\n",
              "      border-top-color: var(--fill-color);\n",
              "      border-right-color: var(--fill-color);\n",
              "    }\n",
              "    40% {\n",
              "      border-color: transparent;\n",
              "      border-right-color: var(--fill-color);\n",
              "      border-top-color: var(--fill-color);\n",
              "    }\n",
              "    60% {\n",
              "      border-color: transparent;\n",
              "      border-right-color: var(--fill-color);\n",
              "    }\n",
              "    80% {\n",
              "      border-color: transparent;\n",
              "      border-right-color: var(--fill-color);\n",
              "      border-bottom-color: var(--fill-color);\n",
              "    }\n",
              "    90% {\n",
              "      border-color: transparent;\n",
              "      border-bottom-color: var(--fill-color);\n",
              "    }\n",
              "  }\n",
              "</style>\n",
              "\n",
              "  <script>\n",
              "    async function quickchart(key) {\n",
              "      const quickchartButtonEl =\n",
              "        document.querySelector('#' + key + ' button');\n",
              "      quickchartButtonEl.disabled = true;  // To prevent multiple clicks.\n",
              "      quickchartButtonEl.classList.add('colab-df-spinner');\n",
              "      try {\n",
              "        const charts = await google.colab.kernel.invokeFunction(\n",
              "            'suggestCharts', [key], {});\n",
              "      } catch (error) {\n",
              "        console.error('Error during call to suggestCharts:', error);\n",
              "      }\n",
              "      quickchartButtonEl.classList.remove('colab-df-spinner');\n",
              "      quickchartButtonEl.classList.add('colab-df-quickchart-complete');\n",
              "    }\n",
              "    (() => {\n",
              "      let quickchartButtonEl =\n",
              "        document.querySelector('#df-672414c7-8cf9-4ae6-9906-6bc576e14356 button');\n",
              "      quickchartButtonEl.style.display =\n",
              "        google.colab.kernel.accessAllowed ? 'block' : 'none';\n",
              "    })();\n",
              "  </script>\n",
              "</div>\n",
              "    </div>\n",
              "  </div>\n"
            ]
          },
          "metadata": {},
          "execution_count": 58
        }
      ],
      "source": [
        "from google.colab import drive\n",
        "drive.mount ('/content/drive')\n",
        "\n",
        "file_path = '/content/drive/My Drive/Intro to ML/Housing.csv'\n",
        "housing = pd.DataFrame(pd.read_csv(file_path))\n",
        "varlist =  ['mainroad', 'guestroom', 'basement', 'hotwaterheating', 'airconditioning', 'prefarea']\n",
        "\n",
        "# Defining the map function\n",
        "def binary_map(x):\n",
        "    return x.map({'yes': 1, 'no': 0})\n",
        "\n",
        "# Applying the function to the housing list\n",
        "housing[varlist] = housing[varlist].apply(binary_map)\n",
        "housing.head()"
      ]
    },
    {
      "cell_type": "markdown",
      "source": [
        "Seperating Dataset"
      ],
      "metadata": {
        "id": "NUsGZ_kaANsL"
      }
    },
    {
      "cell_type": "code",
      "source": [
        "inputVariables = ['area', 'bedrooms', 'bathrooms', 'stories', 'parking']\n",
        "x = housing[inputVariables].values\n",
        "y = housing['price'].values\n",
        "scaledXValues = StandardScaler().fit_transform(x)\n",
        "scaledYValues = StandardScaler().fit_transform(y.reshape(-1,1)).flatten()"
      ],
      "metadata": {
        "id": "YReJ3Ym-8X0n"
      },
      "execution_count": 59,
      "outputs": []
    },
    {
      "cell_type": "code",
      "source": [
        "t_x = torch.tensor(scaledXValues)\n",
        "t_y = torch.tensor(scaledYValues)"
      ],
      "metadata": {
        "id": "c-_Vy9Y5AHa8"
      },
      "execution_count": 60,
      "outputs": []
    },
    {
      "cell_type": "markdown",
      "source": [
        "2a. Develop preprocessing and a training loop to train a linear regression model"
      ],
      "metadata": {
        "id": "oT6Bb_JHF6do"
      }
    },
    {
      "cell_type": "code",
      "source": [
        "n_samples = t_x.shape[0]\n",
        "n_val = int (0.2 * n_samples)\n",
        "\n",
        "shuffled_indices = torch.randperm(n_samples)\n",
        "\n",
        "train_indices = shuffled_indices [:-n_val]\n",
        "val_indices = shuffled_indices[-n_val:]\n",
        "\n",
        "train_t_x = t_x[train_indices]\n",
        "train_t_y = t_y[train_indices]\n",
        "\n",
        "val_t_x = t_x[val_indices]\n",
        "val_t_y = t_y[val_indices]"
      ],
      "metadata": {
        "id": "ItaZxKx1FHry"
      },
      "execution_count": 61,
      "outputs": []
    },
    {
      "cell_type": "code",
      "source": [
        "def linearModel (t_x, w5, w4, w3, w2, w1, b):\n",
        " return torch.matmul(t_x, params[:-1].double()) + params[-1].double()"
      ],
      "metadata": {
        "id": "S82SFmBgLO-8"
      },
      "execution_count": 62,
      "outputs": []
    },
    {
      "cell_type": "code",
      "source": [
        "def loss(t_p, t_c):\n",
        "  squared_diffs = (t_p - t_c)**2\n",
        "  return squared_diffs.mean()\n"
      ],
      "metadata": {
        "id": "smNDUBM7LPuM"
      },
      "execution_count": 63,
      "outputs": []
    },
    {
      "cell_type": "code",
      "source": [
        "def linearTrainingLoop(n_epochs, optimizer, params, train_t_x, val_t_x, train_t_y, val_t_y):\n",
        "  trainLosses = []\n",
        "  validLosses = []\n",
        "\n",
        "  for epoch in range (1, n_epochs + 1):\n",
        "    train_t_p = linearModel(train_t_x, *params)\n",
        "    train_loss = loss(train_t_p, train_t_y)\n",
        "\n",
        "    val_t_p = linearModel(val_t_x, *params)\n",
        "    val_loss = loss(val_t_p, val_t_y)\n",
        "\n",
        "    optimizer.zero_grad()\n",
        "    train_loss.backward()\n",
        "    optimizer.step()\n",
        "\n",
        "    trainLosses.append(train_loss)\n",
        "    validLosses.append(val_loss)\n",
        "\n",
        "\n",
        "    if epoch % 500 == 0:\n",
        "      print(f'Epochs: {epoch}, \\tTraining Loss: {train_loss:.6f}, \\tValidation Loss: {val_loss:.6f}\\n')\n",
        "  return params, trainLosses, validLosses\n",
        "\n"
      ],
      "metadata": {
        "id": "IFQx8zaRF2eg"
      },
      "execution_count": 64,
      "outputs": []
    },
    {
      "cell_type": "markdown",
      "source": [
        "2b. SGD\n",
        "\n",
        "Use 5000 epochs for your training. Explore different learning rates from 0.1 to 0.0001 (you need four separate trainings). Report your loss and validation accuracy for every 500 epochs per training."
      ],
      "metadata": {
        "id": "I4M8iUyaKAmT"
      }
    },
    {
      "cell_type": "code",
      "source": [
        "params = torch.tensor([1.0, 1.0, 1.0, 1.0, 1.0, 0.0], requires_grad=True)\n",
        "optimizer = optim.SGD([params], lr=0.1)\n",
        "print('Learning rate of 0.1')\n",
        "model1, trainLoss1, validLoss1  = linearTrainingLoop(5000, optimizer, params,train_t_x, val_t_x, train_t_y, val_t_y)\n",
        "SGD_trainLoss1 = np.array([item.detach().item() for item in trainLoss1])\n",
        "SGD_validLoss1 = np.array([item.detach().item() for item in validLoss1])"
      ],
      "metadata": {
        "colab": {
          "base_uri": "https://localhost:8080/"
        },
        "id": "EqB1A-OmLafF",
        "outputId": "a3481be1-0965-4f2b-f167-362408a64a8f"
      },
      "execution_count": 65,
      "outputs": [
        {
          "output_type": "stream",
          "name": "stdout",
          "text": [
            "Learning rate of 0.1\n",
            "Epochs: 500, \tTraining Loss: 0.424326, \tValidation Loss: 0.499453\n",
            "\n",
            "Epochs: 1000, \tTraining Loss: 0.424326, \tValidation Loss: 0.499453\n",
            "\n",
            "Epochs: 1500, \tTraining Loss: 0.424326, \tValidation Loss: 0.499453\n",
            "\n",
            "Epochs: 2000, \tTraining Loss: 0.424326, \tValidation Loss: 0.499453\n",
            "\n",
            "Epochs: 2500, \tTraining Loss: 0.424326, \tValidation Loss: 0.499453\n",
            "\n",
            "Epochs: 3000, \tTraining Loss: 0.424326, \tValidation Loss: 0.499453\n",
            "\n",
            "Epochs: 3500, \tTraining Loss: 0.424326, \tValidation Loss: 0.499453\n",
            "\n",
            "Epochs: 4000, \tTraining Loss: 0.424326, \tValidation Loss: 0.499453\n",
            "\n",
            "Epochs: 4500, \tTraining Loss: 0.424326, \tValidation Loss: 0.499453\n",
            "\n",
            "Epochs: 5000, \tTraining Loss: 0.424326, \tValidation Loss: 0.499453\n",
            "\n"
          ]
        }
      ]
    },
    {
      "cell_type": "code",
      "source": [
        "params = torch.tensor([1.0, 1.0, 1.0, 1.0, 1.0, 0.0], requires_grad=True)\n",
        "optimizer = optim.SGD([params], lr=0.01)\n",
        "print('Learning rate of 0.01')\n",
        "model2, trainLoss2, validLoss2  = linearTrainingLoop(5000, optimizer, params,train_t_x, val_t_x, train_t_y, val_t_y)\n",
        "SGD_trainLoss2 = np.array([item.detach().item() for item in trainLoss2])\n",
        "SGD_validLoss2 = np.array([item.detach().item() for item in validLoss2])\n"
      ],
      "metadata": {
        "colab": {
          "base_uri": "https://localhost:8080/"
        },
        "id": "07fbhim3NdEl",
        "outputId": "1f27c810-9487-4720-d760-93025b0a867c"
      },
      "execution_count": 66,
      "outputs": [
        {
          "output_type": "stream",
          "name": "stdout",
          "text": [
            "Learning rate of 0.01\n",
            "Epochs: 500, \tTraining Loss: 0.424326, \tValidation Loss: 0.499400\n",
            "\n",
            "Epochs: 1000, \tTraining Loss: 0.424326, \tValidation Loss: 0.499453\n",
            "\n",
            "Epochs: 1500, \tTraining Loss: 0.424326, \tValidation Loss: 0.499453\n",
            "\n",
            "Epochs: 2000, \tTraining Loss: 0.424326, \tValidation Loss: 0.499453\n",
            "\n",
            "Epochs: 2500, \tTraining Loss: 0.424326, \tValidation Loss: 0.499453\n",
            "\n",
            "Epochs: 3000, \tTraining Loss: 0.424326, \tValidation Loss: 0.499453\n",
            "\n",
            "Epochs: 3500, \tTraining Loss: 0.424326, \tValidation Loss: 0.499453\n",
            "\n",
            "Epochs: 4000, \tTraining Loss: 0.424326, \tValidation Loss: 0.499453\n",
            "\n",
            "Epochs: 4500, \tTraining Loss: 0.424326, \tValidation Loss: 0.499453\n",
            "\n",
            "Epochs: 5000, \tTraining Loss: 0.424326, \tValidation Loss: 0.499453\n",
            "\n"
          ]
        }
      ]
    },
    {
      "cell_type": "code",
      "source": [
        "params = torch.tensor([1.0, 1.0, 1.0, 1.0, 1.0, 0.0], requires_grad=True)\n",
        "learning_rate = 0.001\n",
        "optimizer = optim.SGD([params], lr=0.001)\n",
        "print('Learning rate of 0.001')\n",
        "model3, trainLoss3, validLoss3  = linearTrainingLoop(5000, optimizer, params,train_t_x, val_t_x, train_t_y, val_t_y)\n",
        "SGD_trainLoss3 = np.array([item.detach().item() for item in trainLoss3])\n",
        "SGD_validLoss3 = np.array([item.detach().item() for item in validLoss3])"
      ],
      "metadata": {
        "colab": {
          "base_uri": "https://localhost:8080/"
        },
        "id": "6QD1GQT4Nlg1",
        "outputId": "50ecdc07-faa4-4e34-f2d8-1b00f8b93f9c"
      },
      "execution_count": 67,
      "outputs": [
        {
          "output_type": "stream",
          "name": "stdout",
          "text": [
            "Learning rate of 0.001\n",
            "Epochs: 500, \tTraining Loss: 0.570490, \tValidation Loss: 0.591738\n",
            "\n",
            "Epochs: 1000, \tTraining Loss: 0.432217, \tValidation Loss: 0.487562\n",
            "\n",
            "Epochs: 1500, \tTraining Loss: 0.425686, \tValidation Loss: 0.493305\n",
            "\n",
            "Epochs: 2000, \tTraining Loss: 0.424670, \tValidation Loss: 0.496477\n",
            "\n",
            "Epochs: 2500, \tTraining Loss: 0.424418, \tValidation Loss: 0.497947\n",
            "\n",
            "Epochs: 3000, \tTraining Loss: 0.424350, \tValidation Loss: 0.498680\n",
            "\n",
            "Epochs: 3500, \tTraining Loss: 0.424332, \tValidation Loss: 0.499054\n",
            "\n",
            "Epochs: 4000, \tTraining Loss: 0.424327, \tValidation Loss: 0.499247\n",
            "\n",
            "Epochs: 4500, \tTraining Loss: 0.424326, \tValidation Loss: 0.499347\n",
            "\n",
            "Epochs: 5000, \tTraining Loss: 0.424326, \tValidation Loss: 0.499398\n",
            "\n"
          ]
        }
      ]
    },
    {
      "cell_type": "code",
      "source": [
        "params = torch.tensor([1.0, 1.0, 1.0, 1.0, 1.0, 0.0], requires_grad=True)\n",
        "optimizer = optim.SGD([params], lr=0.0001)\n",
        "print('Learning rate of 0.0001')\n",
        "model4, trainLoss4, validLoss4  = linearTrainingLoop(5000, optimizer, params,train_t_x, val_t_x, train_t_y, val_t_y)\n",
        "SGD_trainLoss4 = np.array([item.detach().item() for item in trainLoss4])\n",
        "SGD_validLoss4 = np.array([item.detach().item() for item in validLoss4])"
      ],
      "metadata": {
        "colab": {
          "base_uri": "https://localhost:8080/"
        },
        "id": "bxdea7UpNqzc",
        "outputId": "4a19b295-3877-4b1c-b4ae-2c14128ca2a0"
      },
      "execution_count": 68,
      "outputs": [
        {
          "output_type": "stream",
          "name": "stdout",
          "text": [
            "Learning rate of 0.0001\n",
            "Epochs: 500, \tTraining Loss: 4.254433, \tValidation Loss: 4.479959\n",
            "\n",
            "Epochs: 1000, \tTraining Loss: 3.063454, \tValidation Loss: 3.200976\n",
            "\n",
            "Epochs: 1500, \tTraining Loss: 2.245216, \tValidation Loss: 2.327366\n",
            "\n",
            "Epochs: 2000, \tTraining Loss: 1.682731, \tValidation Loss: 1.731284\n",
            "\n",
            "Epochs: 2500, \tTraining Loss: 1.295770, \tValidation Loss: 1.325117\n",
            "\n",
            "Epochs: 3000, \tTraining Loss: 1.029322, \tValidation Loss: 1.048850\n",
            "\n",
            "Epochs: 3500, \tTraining Loss: 0.845646, \tValidation Loss: 0.861366\n",
            "\n",
            "Epochs: 4000, \tTraining Loss: 0.718852, \tValidation Loss: 0.734510\n",
            "\n",
            "Epochs: 4500, \tTraining Loss: 0.631172, \tValidation Loss: 0.649009\n",
            "\n",
            "Epochs: 5000, \tTraining Loss: 0.570409, \tValidation Loss: 0.591674\n",
            "\n"
          ]
        }
      ]
    },
    {
      "cell_type": "markdown",
      "source": [
        "2b. ADAM\n",
        "\n",
        "Use 5000 epochs for your training. Explore different learning rates from 0.1 to 0.0001 (you need four separate trainings). Report your loss for every 500 epochs per training."
      ],
      "metadata": {
        "id": "q2mG0t_XUjRf"
      }
    },
    {
      "cell_type": "code",
      "source": [
        "params = torch.tensor([1.0, 1.0, 1.0, 1.0, 1.0, 0.0], requires_grad=True)\n",
        "optimizer = optim.Adam([params], lr=0.1)\n",
        "print('Learning rate of 0.1')\n",
        "model1, trainLoss1, validLoss1  = linearTrainingLoop(5000, optimizer, params,train_t_x, val_t_x, train_t_y, val_t_y)\n",
        "adam_trainLoss1 = np.array([item.detach().item() for item in trainLoss1])\n",
        "adam_validLoss1 = np.array([item.detach().item() for item in validLoss1])\n"
      ],
      "metadata": {
        "colab": {
          "base_uri": "https://localhost:8080/"
        },
        "id": "uGR3t-yFJxZZ",
        "outputId": "fc431007-7e06-4027-8aa4-a94d15b1e6e8"
      },
      "execution_count": 69,
      "outputs": [
        {
          "output_type": "stream",
          "name": "stdout",
          "text": [
            "Learning rate of 0.1\n",
            "Epochs: 500, \tTraining Loss: 0.424326, \tValidation Loss: 0.499453\n",
            "\n",
            "Epochs: 1000, \tTraining Loss: 0.424326, \tValidation Loss: 0.499453\n",
            "\n",
            "Epochs: 1500, \tTraining Loss: 0.424326, \tValidation Loss: 0.499453\n",
            "\n",
            "Epochs: 2000, \tTraining Loss: 0.424403, \tValidation Loss: 0.501313\n",
            "\n",
            "Epochs: 2500, \tTraining Loss: 0.424326, \tValidation Loss: 0.499441\n",
            "\n",
            "Epochs: 3000, \tTraining Loss: 0.424326, \tValidation Loss: 0.499453\n",
            "\n",
            "Epochs: 3500, \tTraining Loss: 0.424326, \tValidation Loss: 0.499505\n",
            "\n",
            "Epochs: 4000, \tTraining Loss: 0.424326, \tValidation Loss: 0.499440\n",
            "\n",
            "Epochs: 4500, \tTraining Loss: 0.424326, \tValidation Loss: 0.499453\n",
            "\n",
            "Epochs: 5000, \tTraining Loss: 0.424326, \tValidation Loss: 0.499453\n",
            "\n"
          ]
        }
      ]
    },
    {
      "cell_type": "code",
      "source": [
        "params = torch.tensor([1.0, 1.0, 1.0, 1.0, 1.0, 0.0], requires_grad=True)\n",
        "optimizer = optim.Adam([params], lr=0.01)\n",
        "print('Learning rate of 0.01')\n",
        "model2, trainLoss2, validLoss2  = linearTrainingLoop(5000, optimizer, params,train_t_x, val_t_x, train_t_y, val_t_y)\n",
        "adam_trainLoss2 = np.array([item.detach().item() for item in trainLoss2])\n",
        "adam_validLoss2 = np.array([item.detach().item() for item in validLoss2])"
      ],
      "metadata": {
        "colab": {
          "base_uri": "https://localhost:8080/"
        },
        "id": "ZHXDDuGdUy8-",
        "outputId": "40056aae-0365-43b3-fcfc-201d00b4f389"
      },
      "execution_count": 70,
      "outputs": [
        {
          "output_type": "stream",
          "name": "stdout",
          "text": [
            "Learning rate of 0.01\n",
            "Epochs: 500, \tTraining Loss: 0.424326, \tValidation Loss: 0.499427\n",
            "\n",
            "Epochs: 1000, \tTraining Loss: 0.424326, \tValidation Loss: 0.499453\n",
            "\n",
            "Epochs: 1500, \tTraining Loss: 0.424326, \tValidation Loss: 0.499460\n",
            "\n",
            "Epochs: 2000, \tTraining Loss: 0.424326, \tValidation Loss: 0.499453\n",
            "\n",
            "Epochs: 2500, \tTraining Loss: 0.424326, \tValidation Loss: 0.499453\n",
            "\n",
            "Epochs: 3000, \tTraining Loss: 0.424326, \tValidation Loss: 0.499382\n",
            "\n",
            "Epochs: 3500, \tTraining Loss: 0.424326, \tValidation Loss: 0.499453\n",
            "\n",
            "Epochs: 4000, \tTraining Loss: 0.424326, \tValidation Loss: 0.499455\n",
            "\n",
            "Epochs: 4500, \tTraining Loss: 0.424326, \tValidation Loss: 0.499428\n",
            "\n",
            "Epochs: 5000, \tTraining Loss: 0.424326, \tValidation Loss: 0.499453\n",
            "\n"
          ]
        }
      ]
    },
    {
      "cell_type": "code",
      "source": [
        "params = torch.tensor([1.0, 1.0, 1.0, 1.0, 1.0, 0.0], requires_grad=True)\n",
        "learning_rate = 0.001\n",
        "optimizer = optim.Adam([params], lr=0.001)\n",
        "print('Learning rate of 0.001')\n",
        "model3, trainLoss3, validLoss3  = linearTrainingLoop(5000, optimizer, params,train_t_x, val_t_x, train_t_y, val_t_y)\n",
        "adam_trainLoss3 = np.array([item.detach().item() for item in trainLoss3])\n",
        "adam_validLoss3 = np.array([item.detach().item() for item in validLoss3])"
      ],
      "metadata": {
        "colab": {
          "base_uri": "https://localhost:8080/"
        },
        "id": "uIgfT3wMU1F_",
        "outputId": "fa63ed5a-389f-4c58-d73d-5c390c36392c"
      },
      "execution_count": 71,
      "outputs": [
        {
          "output_type": "stream",
          "name": "stdout",
          "text": [
            "Learning rate of 0.001\n",
            "Epochs: 500, \tTraining Loss: 1.615037, \tValidation Loss: 1.656560\n",
            "\n",
            "Epochs: 1000, \tTraining Loss: 0.570484, \tValidation Loss: 0.595548\n",
            "\n",
            "Epochs: 1500, \tTraining Loss: 0.439854, \tValidation Loss: 0.495000\n",
            "\n",
            "Epochs: 2000, \tTraining Loss: 0.427085, \tValidation Loss: 0.495569\n",
            "\n",
            "Epochs: 2500, \tTraining Loss: 0.424780, \tValidation Loss: 0.497690\n",
            "\n",
            "Epochs: 3000, \tTraining Loss: 0.424374, \tValidation Loss: 0.498885\n",
            "\n",
            "Epochs: 3500, \tTraining Loss: 0.424328, \tValidation Loss: 0.499333\n",
            "\n",
            "Epochs: 4000, \tTraining Loss: 0.424326, \tValidation Loss: 0.499437\n",
            "\n",
            "Epochs: 4500, \tTraining Loss: 0.424326, \tValidation Loss: 0.499452\n",
            "\n",
            "Epochs: 5000, \tTraining Loss: 0.424326, \tValidation Loss: 0.499453\n",
            "\n"
          ]
        }
      ]
    },
    {
      "cell_type": "code",
      "source": [
        "params = torch.tensor([1.0, 1.0, 1.0, 1.0, 1.0, 0.0], requires_grad=True)\n",
        "optimizer = optim.Adam([params], lr=0.0001)\n",
        "print('Learning rate of 0.0001')\n",
        "model4, trainLoss4, validLoss4  = linearTrainingLoop(5000, optimizer, params,train_t_x, val_t_x, train_t_y, val_t_y)\n",
        "adam_trainLoss4 = np.array([item.detach().item() for item in trainLoss4])\n",
        "adam_validLoss4 = np.array([item.detach().item() for item in validLoss4])"
      ],
      "metadata": {
        "colab": {
          "base_uri": "https://localhost:8080/"
        },
        "id": "D9w-vNCjU4m3",
        "outputId": "5f1092d0-5440-4269-a088-b535d73090a6"
      },
      "execution_count": 72,
      "outputs": [
        {
          "output_type": "stream",
          "name": "stdout",
          "text": [
            "Learning rate of 0.0001\n",
            "Epochs: 500, \tTraining Loss: 5.302586, \tValidation Loss: 5.607893\n",
            "\n",
            "Epochs: 1000, \tTraining Loss: 4.682058, \tValidation Loss: 4.937185\n",
            "\n",
            "Epochs: 1500, \tTraining Loss: 4.118615, \tValidation Loss: 4.329436\n",
            "\n",
            "Epochs: 2000, \tTraining Loss: 3.607437, \tValidation Loss: 3.779352\n",
            "\n",
            "Epochs: 2500, \tTraining Loss: 3.144609, \tValidation Loss: 3.282631\n",
            "\n",
            "Epochs: 3000, \tTraining Loss: 2.726958, \tValidation Loss: 2.835783\n",
            "\n",
            "Epochs: 3500, \tTraining Loss: 2.351901, \tValidation Loss: 2.435960\n",
            "\n",
            "Epochs: 4000, \tTraining Loss: 2.017283, \tValidation Loss: 2.080776\n",
            "\n",
            "Epochs: 4500, \tTraining Loss: 1.721248, \tValidation Loss: 1.768166\n",
            "\n",
            "Epochs: 5000, \tTraining Loss: 1.462106, \tValidation Loss: 1.496238\n",
            "\n"
          ]
        }
      ]
    },
    {
      "cell_type": "markdown",
      "source": [
        "2c. Visual Comparison"
      ],
      "metadata": {
        "id": "vJHP5COMV39e"
      }
    },
    {
      "cell_type": "code",
      "source": [
        "plt.figure(figsize=(10, 10))\n",
        "plt. suptitle (\"SGD Linear Regression Loss\")\n",
        "\n",
        "plt.subplot(2,2,1)\n",
        "plt.plot(SGD_trainLoss1, color='blue')\n",
        "plt.plot(SGD_validLoss1, color='green')\n",
        "plt.title('Loss with Learning Rate of 0.1')\n",
        "\n",
        "plt.subplot(2,2,2)\n",
        "plt.plot(SGD_trainLoss2, color='blue')\n",
        "plt.plot(SGD_validLoss2, color='green')\n",
        "plt.title('Loss with Learning Rate of 0.01')\n",
        "\n",
        "plt.subplot(2,2,3)\n",
        "plt.plot(SGD_trainLoss3, color='blue')\n",
        "plt.plot(SGD_validLoss3, color='green')\n",
        "plt.title('Loss with Learning Rate of 0.001')\n",
        "\n",
        "plt.subplot(2,2,4)\n",
        "plt.plot(SGD_trainLoss4, color='blue')\n",
        "plt.plot(SGD_validLoss4, color='green')\n",
        "plt.title('Loss with Learning Rate of 0.0001')"
      ],
      "metadata": {
        "colab": {
          "base_uri": "https://localhost:8080/",
          "height": 947
        },
        "id": "F2XV5aMqWI5c",
        "outputId": "58666d3b-ccf7-40e3-81f8-ca3becf4075a"
      },
      "execution_count": 73,
      "outputs": [
        {
          "output_type": "execute_result",
          "data": {
            "text/plain": [
              "Text(0.5, 1.0, 'Loss with Learning Rate of 0.0001')"
            ]
          },
          "metadata": {},
          "execution_count": 73
        },
        {
          "output_type": "display_data",
          "data": {
            "text/plain": [
              "<Figure size 1000x1000 with 4 Axes>"
            ],
            "image/png": "[encoded data removed]"
          },
          "metadata": {}
        }
      ]
    },
    {
      "cell_type": "code",
      "source": [
        "plt.figure(figsize=(10, 10))\n",
        "plt. suptitle (\"Adam Linear Regression Loss\")\n",
        "\n",
        "plt.subplot(2,2,1)\n",
        "plt.plot(adam_trainLoss1, color='blue')\n",
        "plt.plot(adam_validLoss1, color='green')\n",
        "plt.title('Loss with Learning Rate of 0.1')\n",
        "\n",
        "plt.subplot(2,2,2)\n",
        "plt.plot(adam_trainLoss2, color='blue')\n",
        "plt.plot(adam_validLoss2, color='green')\n",
        "plt.title('Loss with Learning Rate of 0.01')\n",
        "\n",
        "plt.subplot(2,2,3)\n",
        "plt.plot(adam_trainLoss3, color='blue')\n",
        "plt.plot(adam_validLoss3, color='green')\n",
        "plt.title('Loss with Learning Rate of 0.001')\n",
        "\n",
        "plt.subplot(2,2,4)\n",
        "plt.plot(adam_trainLoss4, color='blue')\n",
        "plt.plot(adam_validLoss4, color='green')\n",
        "plt.title('Loss with Learning Rate of 0.0001')"
      ],
      "metadata": {
        "colab": {
          "base_uri": "https://localhost:8080/",
          "height": 947
        },
        "outputId": "43a1dc80-7b97-491c-feee-699df4baafc5",
        "id": "fHH8YFNydhR1"
      },
      "execution_count": 74,
      "outputs": [
        {
          "output_type": "execute_result",
          "data": {
            "text/plain": [
              "Text(0.5, 1.0, 'Loss with Learning Rate of 0.0001')"
            ]
          },
          "metadata": {},
          "execution_count": 74
        },
        {
          "output_type": "display_data",
          "data": {
            "text/plain": [
              "<Figure size 1000x1000 with 4 Axes>"
            ],
            "image/png": "[encoded data removed]"
          },
          "metadata": {}
        }
      ]
    }
  ]
}