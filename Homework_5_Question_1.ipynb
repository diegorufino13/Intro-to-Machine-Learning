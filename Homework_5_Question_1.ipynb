{
  "nbformat": 4,
  "nbformat_minor": 0,
  "metadata": {
    "colab": {
      "provenance": []
    },
    "kernelspec": {
      "name": "python3",
      "display_name": "Python 3"
    },
    "language_info": {
      "name": "python"
    }
  },
  "cells": [
    {
      "cell_type": "markdown",
      "source": [
        "# Question 1"
      ],
      "metadata": {
        "id": "jBHunMbb6hMK"
      }
    },
    {
      "cell_type": "code",
      "source": [
        "import torch\n",
        "import torch.optim as optim\n",
        "import matplotlib.pyplot as plt\n"
      ],
      "metadata": {
        "id": "wNg4e_IsqV4h"
      },
      "execution_count": 41,
      "outputs": []
    },
    {
      "cell_type": "code",
      "execution_count": 42,
      "metadata": {
        "id": "ckm_1NT-mxin"
      },
      "outputs": [],
      "source": [
        "t_c = [0.5, 14.0, 15.0, 28.0, 11.0, 8.0, 3.0, -4.0, 6.0, 13.0, 21.0]\n",
        "t_u = [35.7, 55.9, 58.2, 81.9, 56.3, 48.9, 33.9, 21.8, 48.4, 60.4, 68.4]\n",
        "t_c = torch.tensor(t_c)\n",
        "t_u = torch.tensor(t_u)"
      ]
    },
    {
      "cell_type": "markdown",
      "source": [
        "Splitting Dataset"
      ],
      "metadata": {
        "id": "0LSkn09AEqeZ"
      }
    },
    {
      "cell_type": "code",
      "source": [
        "n_samples = t_u.shape[0]\n",
        "n_val = int (0.2 * n_samples)\n",
        "\n",
        "shuffled_indices = torch.randperm(n_samples)\n",
        "\n",
        "train_indices = shuffled_indices [:-n_val]\n",
        "val_indices = shuffled_indices[-n_val:]\n",
        "\n"
      ],
      "metadata": {
        "id": "RGrIIDdkqTbI"
      },
      "execution_count": 43,
      "outputs": []
    },
    {
      "cell_type": "code",
      "source": [
        "train_t_u = t_u[train_indices]\n",
        "train_t_c = t_c[train_indices]\n",
        "\n",
        "val_t_u = t_u[val_indices]\n",
        "val_t_c = t_c[val_indices]\n",
        "\n",
        "train_t_un = 0.1 * train_t_u\n",
        "val_t_un = 0.1 * val_t_u"
      ],
      "metadata": {
        "id": "rnRy9wi3FmyH"
      },
      "execution_count": 44,
      "outputs": []
    },
    {
      "cell_type": "markdown",
      "source": [
        "non linear system\n"
      ],
      "metadata": {
        "id": "yT20iWyeI6N2"
      }
    },
    {
      "cell_type": "code",
      "source": [
        "def nonLinearModel (t_u, w2, w1, b):\n",
        " return w2*t_u**2 + w1*t_u + b"
      ],
      "metadata": {
        "id": "YIVVx62bI8wv"
      },
      "execution_count": 45,
      "outputs": []
    },
    {
      "cell_type": "code",
      "source": [
        "def loss(t_p, t_c):\n",
        "  squared_diffs = (t_p - t_c)**2\n",
        "  return squared_diffs.mean()"
      ],
      "metadata": {
        "id": "YemW_gB9QUZ4"
      },
      "execution_count": 46,
      "outputs": []
    },
    {
      "cell_type": "markdown",
      "source": [
        "1a. Non Linear Training Loop"
      ],
      "metadata": {
        "id": "foRZcYW1J46V"
      }
    },
    {
      "cell_type": "code",
      "source": [
        "def nonLinearTrainingLoop(n_epochs, optimizer, params, train_t_u, val_t_u, train_t_c, val_t_c):\n",
        "  for epoch in range (1, n_epochs + 1):\n",
        "    train_t_p = nonLinearModel(train_t_u, *params)\n",
        "    train_loss = loss(train_t_p, train_t_c)\n",
        "\n",
        "    val_t_p = nonLinearModel(val_t_u, *params)\n",
        "    val_loss = loss(val_t_p, val_t_c)\n",
        "\n",
        "    optimizer.zero_grad()\n",
        "    train_loss.backward()\n",
        "    optimizer.step()\n",
        "\n",
        "    if epoch % 500 == 0:\n",
        "      print(f'Epochs: {epoch}, \\tTraining Loss: {train_loss:.6f}, \\tValidation Loss: {val_loss:.6f}\\n')\n",
        "  return params\n",
        "\n",
        ""
      ],
      "metadata": {
        "id": "K4izp81uJ2Zu"
      },
      "execution_count": 47,
      "outputs": []
    },
    {
      "cell_type": "markdown",
      "source": [
        "1b. SGD\n",
        "\n",
        "Use 5000 epochs for your training. Explore different learning rates from 0.1 to 0.0001 (you need four separate trainings). Report your loss for every 500 epochs per training."
      ],
      "metadata": {
        "id": "vXkgOwNRTUlA"
      }
    },
    {
      "cell_type": "code",
      "source": [
        "params = torch.tensor([1.0, 1.0, 0.0], requires_grad=True)\n",
        "learning_rate = 0.1\n",
        "optimizer = optim.SGD([params], lr=learning_rate)\n",
        "print('Learning rate of 0.1')\n",
        "nonLinearTrainingLoop(5000, optimizer, params,train_t_un, val_t_un, train_t_c, val_t_c)"
      ],
      "metadata": {
        "colab": {
          "base_uri": "https://localhost:8080/"
        },
        "id": "QWdMd3dzPIyD",
        "outputId": "6ae2cbd3-6421-42d1-c014-d22d53c7c47f"
      },
      "execution_count": 48,
      "outputs": [
        {
          "output_type": "stream",
          "name": "stdout",
          "text": [
            "Learning rate of 0.1\n",
            "Epochs: 500, \tTraining Loss: nan, \tValidation Loss: nan\n",
            "\n",
            "Epochs: 1000, \tTraining Loss: nan, \tValidation Loss: nan\n",
            "\n",
            "Epochs: 1500, \tTraining Loss: nan, \tValidation Loss: nan\n",
            "\n",
            "Epochs: 2000, \tTraining Loss: nan, \tValidation Loss: nan\n",
            "\n",
            "Epochs: 2500, \tTraining Loss: nan, \tValidation Loss: nan\n",
            "\n",
            "Epochs: 3000, \tTraining Loss: nan, \tValidation Loss: nan\n",
            "\n",
            "Epochs: 3500, \tTraining Loss: nan, \tValidation Loss: nan\n",
            "\n",
            "Epochs: 4000, \tTraining Loss: nan, \tValidation Loss: nan\n",
            "\n",
            "Epochs: 4500, \tTraining Loss: nan, \tValidation Loss: nan\n",
            "\n",
            "Epochs: 5000, \tTraining Loss: nan, \tValidation Loss: nan\n",
            "\n"
          ]
        },
        {
          "output_type": "execute_result",
          "data": {
            "text/plain": [
              "tensor([nan, nan, nan], requires_grad=True)"
            ]
          },
          "metadata": {},
          "execution_count": 48
        }
      ]
    },
    {
      "cell_type": "code",
      "source": [
        "params = torch.tensor([1.0, 1.0, 0.0], requires_grad=True)\n",
        "learning_rate = 0.01\n",
        "optimizer = optim.SGD([params], lr=learning_rate)\n",
        "print('Learning rate of 0.01')\n",
        "nonLinearTrainingLoop(5000, optimizer, params,train_t_un, val_t_un, train_t_c, val_t_c)"
      ],
      "metadata": {
        "colab": {
          "base_uri": "https://localhost:8080/"
        },
        "id": "kdYX7nbT01DM",
        "outputId": "0d90a602-01ff-4613-fcfa-a82140f172fc"
      },
      "execution_count": 49,
      "outputs": [
        {
          "output_type": "stream",
          "name": "stdout",
          "text": [
            "Learning rate of 0.01\n",
            "Epochs: 500, \tTraining Loss: nan, \tValidation Loss: nan\n",
            "\n",
            "Epochs: 1000, \tTraining Loss: nan, \tValidation Loss: nan\n",
            "\n",
            "Epochs: 1500, \tTraining Loss: nan, \tValidation Loss: nan\n",
            "\n",
            "Epochs: 2000, \tTraining Loss: nan, \tValidation Loss: nan\n",
            "\n",
            "Epochs: 2500, \tTraining Loss: nan, \tValidation Loss: nan\n",
            "\n",
            "Epochs: 3000, \tTraining Loss: nan, \tValidation Loss: nan\n",
            "\n",
            "Epochs: 3500, \tTraining Loss: nan, \tValidation Loss: nan\n",
            "\n",
            "Epochs: 4000, \tTraining Loss: nan, \tValidation Loss: nan\n",
            "\n",
            "Epochs: 4500, \tTraining Loss: nan, \tValidation Loss: nan\n",
            "\n",
            "Epochs: 5000, \tTraining Loss: nan, \tValidation Loss: nan\n",
            "\n"
          ]
        },
        {
          "output_type": "execute_result",
          "data": {
            "text/plain": [
              "tensor([nan, nan, nan], requires_grad=True)"
            ]
          },
          "metadata": {},
          "execution_count": 49
        }
      ]
    },
    {
      "cell_type": "code",
      "source": [
        "params = torch.tensor([1.0, 1.0, 0.0], requires_grad=True)\n",
        "learning_rate = 0.001\n",
        "optimizer = optim.SGD([params], lr=learning_rate)\n",
        "print('Learning rate of 0.001')\n",
        "nonLinearTrainingLoop(5000, optimizer, params,train_t_un, val_t_un, train_t_c, val_t_c)"
      ],
      "metadata": {
        "colab": {
          "base_uri": "https://localhost:8080/"
        },
        "id": "hFv-DPZQ043_",
        "outputId": "ad058bba-77fa-42ea-e09e-bc5a3577a1ae"
      },
      "execution_count": 50,
      "outputs": [
        {
          "output_type": "stream",
          "name": "stdout",
          "text": [
            "Learning rate of 0.001\n",
            "Epochs: 500, \tTraining Loss: 4.003821, \tValidation Loss: 5.679838\n",
            "\n",
            "Epochs: 1000, \tTraining Loss: 2.792105, \tValidation Loss: 10.447968\n",
            "\n",
            "Epochs: 1500, \tTraining Loss: 2.578365, \tValidation Loss: 14.709350\n",
            "\n",
            "Epochs: 2000, \tTraining Loss: 2.536735, \tValidation Loss: 16.792400\n",
            "\n",
            "Epochs: 2500, \tTraining Loss: 2.524850, \tValidation Loss: 17.636789\n",
            "\n",
            "Epochs: 3000, \tTraining Loss: 2.518169, \tValidation Loss: 17.911884\n",
            "\n",
            "Epochs: 3500, \tTraining Loss: 2.512462, \tValidation Loss: 17.942642\n",
            "\n",
            "Epochs: 4000, \tTraining Loss: 2.506994, \tValidation Loss: 17.871819\n",
            "\n",
            "Epochs: 4500, \tTraining Loss: 2.501642, \tValidation Loss: 17.759750\n",
            "\n",
            "Epochs: 5000, \tTraining Loss: 2.496380, \tValidation Loss: 17.631500\n",
            "\n"
          ]
        },
        {
          "output_type": "execute_result",
          "data": {
            "text/plain": [
              "tensor([ 0.7348, -1.6650, -1.8140], requires_grad=True)"
            ]
          },
          "metadata": {},
          "execution_count": 50
        }
      ]
    },
    {
      "cell_type": "code",
      "source": [
        "params = torch.tensor([1.0, 1.0, 0.0], requires_grad=True)\n",
        "learning_rate = 0.0001\n",
        "optimizer = optim.SGD([params], lr=learning_rate)\n",
        "print('Learning rate of 0.0001')\n",
        "\n",
        "nonLinearTrainingLoop(5000, optimizer, params,train_t_un, val_t_un, train_t_c, val_t_c)\n"
      ],
      "metadata": {
        "colab": {
          "base_uri": "https://localhost:8080/"
        },
        "id": "pdPYI66W07bi",
        "outputId": "a1851c91-4184-4e79-9204-dadf6b0aff3f"
      },
      "execution_count": 51,
      "outputs": [
        {
          "output_type": "stream",
          "name": "stdout",
          "text": [
            "Learning rate of 0.0001\n",
            "Epochs: 500, \tTraining Loss: 9.619906, \tValidation Loss: 21.230251\n",
            "\n",
            "Epochs: 1000, \tTraining Loss: 8.480709, \tValidation Loss: 16.598782\n",
            "\n",
            "Epochs: 1500, \tTraining Loss: 7.524939, \tValidation Loss: 13.072224\n",
            "\n",
            "Epochs: 2000, \tTraining Loss: 6.723053, \tValidation Loss: 10.442045\n",
            "\n",
            "Epochs: 2500, \tTraining Loss: 6.050251, \tValidation Loss: 8.535880\n",
            "\n",
            "Epochs: 3000, \tTraining Loss: 5.485742, \tValidation Loss: 7.211503\n",
            "\n",
            "Epochs: 3500, \tTraining Loss: 5.012081, \tValidation Loss: 6.351753\n",
            "\n",
            "Epochs: 4000, \tTraining Loss: 4.614630, \tValidation Loss: 5.860335\n",
            "\n",
            "Epochs: 4500, \tTraining Loss: 4.281113, \tValidation Loss: 5.658264\n",
            "\n",
            "Epochs: 5000, \tTraining Loss: 4.001230, \tValidation Loss: 5.680965\n",
            "\n"
          ]
        },
        {
          "output_type": "execute_result",
          "data": {
            "text/plain": [
              "tensor([ 0.5412, -0.7204, -0.8384], requires_grad=True)"
            ]
          },
          "metadata": {},
          "execution_count": 51
        }
      ]
    },
    {
      "cell_type": "markdown",
      "source": [
        "1b. ADAM\n",
        "\n",
        "Use 5000 epochs for your training. Explore different learning rates from 0.1 to 0.0001 (you need four separate trainings). Report your loss for every 500 epochs per training."
      ],
      "metadata": {
        "id": "OpofMPW44vgM"
      }
    },
    {
      "cell_type": "code",
      "source": [
        "params = torch.tensor([1.0, 1.0, 0.0], requires_grad=True)\n",
        "learning_rate = 0.1\n",
        "optimizer = optim.Adam([params], lr=learning_rate)\n",
        "print('Learning rate of 0.1')\n",
        "\n",
        "nonLinearTrainingLoop(5000, optimizer, params,train_t_un, val_t_un, train_t_c, val_t_c)\n"
      ],
      "metadata": {
        "colab": {
          "base_uri": "https://localhost:8080/"
        },
        "outputId": "5274e15e-4857-4c5e-d35f-53deb276e4d9",
        "id": "EATlMYJB4_yE"
      },
      "execution_count": 52,
      "outputs": [
        {
          "output_type": "stream",
          "name": "stdout",
          "text": [
            "Learning rate of 0.1\n",
            "Epochs: 500, \tTraining Loss: 2.287335, \tValidation Loss: 11.645745\n",
            "\n",
            "Epochs: 1000, \tTraining Loss: 2.256364, \tValidation Loss: 10.535938\n",
            "\n",
            "Epochs: 1500, \tTraining Loss: 2.225581, \tValidation Loss: 9.096406\n",
            "\n",
            "Epochs: 2000, \tTraining Loss: 2.201704, \tValidation Loss: 7.732929\n",
            "\n",
            "Epochs: 2500, \tTraining Loss: 2.187115, \tValidation Loss: 6.613074\n",
            "\n",
            "Epochs: 3000, \tTraining Loss: 2.180295, \tValidation Loss: 5.811468\n",
            "\n",
            "Epochs: 3500, \tTraining Loss: 2.177985, \tValidation Loss: 5.317996\n",
            "\n",
            "Epochs: 4000, \tTraining Loss: 2.177460, \tValidation Loss: 5.065342\n",
            "\n",
            "Epochs: 4500, \tTraining Loss: 2.177388, \tValidation Loss: 4.963517\n",
            "\n",
            "Epochs: 5000, \tTraining Loss: 2.177382, \tValidation Loss: 4.933678\n",
            "\n"
          ]
        },
        {
          "output_type": "execute_result",
          "data": {
            "text/plain": [
              "tensor([ 0.4540,  0.9639, -7.4672], requires_grad=True)"
            ]
          },
          "metadata": {},
          "execution_count": 52
        }
      ]
    },
    {
      "cell_type": "code",
      "source": [
        "params = torch.tensor([1.0, 1.0, 0.0], requires_grad=True)\n",
        "learning_rate = 0.01\n",
        "optimizer = optim.Adam([params], lr=learning_rate)\n",
        "print('Learning rate of 0.01')\n",
        "\n",
        "nonLinearTrainingLoop(5000, optimizer, params,train_t_un, val_t_un, train_t_c, val_t_c)\n"
      ],
      "metadata": {
        "colab": {
          "base_uri": "https://localhost:8080/"
        },
        "outputId": "a86462e5-36cd-4374-e042-5e9f35705d4b",
        "id": "dXr9OLRH5OHD"
      },
      "execution_count": 53,
      "outputs": [
        {
          "output_type": "stream",
          "name": "stdout",
          "text": [
            "Learning rate of 0.01\n",
            "Epochs: 500, \tTraining Loss: 5.876269, \tValidation Loss: 8.731654\n",
            "\n",
            "Epochs: 1000, \tTraining Loss: 3.982460, \tValidation Loss: 4.956769\n",
            "\n",
            "Epochs: 1500, \tTraining Loss: 2.848088, \tValidation Loss: 5.532434\n",
            "\n",
            "Epochs: 2000, \tTraining Loss: 2.416810, \tValidation Loss: 8.338858\n",
            "\n",
            "Epochs: 2500, \tTraining Loss: 2.312652, \tValidation Loss: 10.646044\n",
            "\n",
            "Epochs: 3000, \tTraining Loss: 2.294047, \tValidation Loss: 11.608155\n",
            "\n",
            "Epochs: 3500, \tTraining Loss: 2.286491, \tValidation Loss: 11.691045\n",
            "\n",
            "Epochs: 4000, \tTraining Loss: 2.278378, \tValidation Loss: 11.431181\n",
            "\n",
            "Epochs: 4500, \tTraining Loss: 2.268816, \tValidation Loss: 11.048252\n",
            "\n",
            "Epochs: 5000, \tTraining Loss: 2.257824, \tValidation Loss: 10.585447\n",
            "\n"
          ]
        },
        {
          "output_type": "execute_result",
          "data": {
            "text/plain": [
              "tensor([ 0.5991, -0.3751, -4.6562], requires_grad=True)"
            ]
          },
          "metadata": {},
          "execution_count": 53
        }
      ]
    },
    {
      "cell_type": "code",
      "source": [
        "params = torch.tensor([1.0, 1.0, 0.0], requires_grad=True)\n",
        "learning_rate = 0.001\n",
        "optimizer = optim.Adam([params], lr=learning_rate)\n",
        "print('Learning rate of 0.001')\n",
        "\n",
        "nonLinearTrainingLoop(5000, optimizer, params,train_t_un, val_t_un, train_t_c, val_t_c)\n"
      ],
      "metadata": {
        "colab": {
          "base_uri": "https://localhost:8080/"
        },
        "outputId": "b721d289-0399-4797-fbab-9a8316826739",
        "id": "Qf23arp75OVJ"
      },
      "execution_count": 54,
      "outputs": [
        {
          "output_type": "stream",
          "name": "stdout",
          "text": [
            "Learning rate of 0.001\n",
            "Epochs: 500, \tTraining Loss: 86.714554, \tValidation Loss: 176.504578\n",
            "\n",
            "Epochs: 1000, \tTraining Loss: 11.437991, \tValidation Loss: 16.995047\n",
            "\n",
            "Epochs: 1500, \tTraining Loss: 7.197553, \tValidation Loss: 12.007837\n",
            "\n",
            "Epochs: 2000, \tTraining Loss: 6.944690, \tValidation Loss: 11.839658\n",
            "\n",
            "Epochs: 2500, \tTraining Loss: 6.690705, \tValidation Loss: 11.076097\n",
            "\n",
            "Epochs: 3000, \tTraining Loss: 6.380027, \tValidation Loss: 10.144827\n",
            "\n",
            "Epochs: 3500, \tTraining Loss: 6.011671, \tValidation Loss: 9.094356\n",
            "\n",
            "Epochs: 4000, \tTraining Loss: 5.589190, \tValidation Loss: 7.973470\n",
            "\n",
            "Epochs: 4500, \tTraining Loss: 5.122446, \tValidation Loss: 6.861547\n",
            "\n",
            "Epochs: 5000, \tTraining Loss: 4.628743, \tValidation Loss: 5.869592\n",
            "\n"
          ]
        },
        {
          "output_type": "execute_result",
          "data": {
            "text/plain": [
              "tensor([ 0.4428, -0.0087, -1.6871], requires_grad=True)"
            ]
          },
          "metadata": {},
          "execution_count": 54
        }
      ]
    },
    {
      "cell_type": "code",
      "source": [
        "params = torch.tensor([1.0, 1.0, 0.0], requires_grad=True)\n",
        "learning_rate = 0.0001\n",
        "optimizer = optim.Adam([params], lr=learning_rate)\n",
        "print('Learning rate of 0.0001')\n",
        "\n",
        "nonLinearTrainingLoop(5000, optimizer, params,train_t_un, val_t_un, train_t_c, val_t_c)\n"
      ],
      "metadata": {
        "colab": {
          "base_uri": "https://localhost:8080/"
        },
        "outputId": "ec55e395-c9c0-4d5d-ab6e-8da8920b05a3",
        "id": "0xaeTqIY5M65"
      },
      "execution_count": 55,
      "outputs": [
        {
          "output_type": "stream",
          "name": "stdout",
          "text": [
            "Learning rate of 0.0001\n",
            "Epochs: 500, \tTraining Loss: 471.355530, \tValidation Loss: 1059.203491\n",
            "\n",
            "Epochs: 1000, \tTraining Loss: 401.162933, \tValidation Loss: 896.258301\n",
            "\n",
            "Epochs: 1500, \tTraining Loss: 338.674286, \tValidation Loss: 751.601562\n",
            "\n",
            "Epochs: 2000, \tTraining Loss: 283.181244, \tValidation Loss: 623.553162\n",
            "\n",
            "Epochs: 2500, \tTraining Loss: 234.106552, \tValidation Loss: 510.740997\n",
            "\n",
            "Epochs: 3000, \tTraining Loss: 190.975800, \tValidation Loss: 412.035004\n",
            "\n",
            "Epochs: 3500, \tTraining Loss: 153.393112, \tValidation Loss: 326.488373\n",
            "\n",
            "Epochs: 4000, \tTraining Loss: 121.015678, \tValidation Loss: 253.276428\n",
            "\n",
            "Epochs: 4500, \tTraining Loss: 93.532768, \tValidation Loss: 191.645645\n",
            "\n",
            "Epochs: 5000, \tTraining Loss: 70.644005, \tValidation Loss: 140.861404\n",
            "\n"
          ]
        },
        {
          "output_type": "execute_result",
          "data": {
            "text/plain": [
              "tensor([ 0.5711,  0.5693, -0.4336], requires_grad=True)"
            ]
          },
          "metadata": {},
          "execution_count": 55
        }
      ]
    },
    {
      "cell_type": "markdown",
      "source": [
        "1C Linear vs Non Linear"
      ],
      "metadata": {
        "id": "YGyoVgjr6D3F"
      }
    },
    {
      "cell_type": "code",
      "source": [
        "def linearModel (t_u, w, b):\n",
        " return w * t_u + b"
      ],
      "metadata": {
        "id": "xq1VTdx66HHq"
      },
      "execution_count": 56,
      "outputs": []
    },
    {
      "cell_type": "code",
      "source": [
        "def linearTrainingLoop(n_epochs, optimizer, params, train_t_u, val_t_u, train_t_c, val_t_c):\n",
        "  for epoch in range (1, n_epochs + 1):\n",
        "    train_t_p = linearModel(train_t_u, *params)\n",
        "    train_loss = loss(train_t_p, train_t_c)\n",
        "\n",
        "    val_t_p = linearModel(val_t_u, *params)\n",
        "    val_loss = loss(val_t_p, val_t_c)\n",
        "\n",
        "    optimizer.zero_grad()\n",
        "    train_loss.backward()\n",
        "    optimizer.step()\n",
        "\n",
        "    if epoch % 500 == 0:\n",
        "      print(f'Epochs: {epoch}, \\tTraining Loss: {train_loss:.6f}, \\tValidation Loss: {val_loss:.6f}\\n')\n",
        "  return params\n"
      ],
      "metadata": {
        "id": "mlfvvqVM6jcO"
      },
      "execution_count": 57,
      "outputs": []
    },
    {
      "cell_type": "code",
      "source": [
        "linearParams = torch.tensor([1.0, 0.0], requires_grad=True)\n",
        "nonLinearParams = torch.tensor([1.0, 1.0, 0.0], requires_grad=True)\n"
      ],
      "metadata": {
        "id": "FfiMWO45EAvI"
      },
      "execution_count": 58,
      "outputs": []
    },
    {
      "cell_type": "code",
      "source": [
        "linearOptimizer = optim.SGD([linearParams], lr= 0.01)\n",
        "nonLinearOptimizer = optim.Adam([nonLinearParams], lr=0.0001)"
      ],
      "metadata": {
        "id": "LjDAtiQYEZzd"
      },
      "execution_count": 59,
      "outputs": []
    },
    {
      "cell_type": "code",
      "source": [
        "linearTraining = linearTrainingLoop(5000, linearOptimizer, linearParams, train_t_un, val_t_un, train_t_c, val_t_c)\n",
        "\n",
        "\n"
      ],
      "metadata": {
        "colab": {
          "base_uri": "https://localhost:8080/"
        },
        "id": "7utftLzhFIam",
        "outputId": "c208233a-f93a-4aa7-8469-fa216b336cb8"
      },
      "execution_count": 60,
      "outputs": [
        {
          "output_type": "stream",
          "name": "stdout",
          "text": [
            "Epochs: 500, \tTraining Loss: 7.375591, \tValidation Loss: 33.852039\n",
            "\n",
            "Epochs: 1000, \tTraining Loss: 4.119481, \tValidation Loss: 16.841705\n",
            "\n",
            "Epochs: 1500, \tTraining Loss: 3.238195, \tValidation Loss: 10.319435\n",
            "\n",
            "Epochs: 2000, \tTraining Loss: 2.999669, \tValidation Loss: 7.556142\n",
            "\n",
            "Epochs: 2500, \tTraining Loss: 2.935112, \tValidation Loss: 6.289048\n",
            "\n",
            "Epochs: 3000, \tTraining Loss: 2.917640, \tValidation Loss: 5.675973\n",
            "\n",
            "Epochs: 3500, \tTraining Loss: 2.912911, \tValidation Loss: 5.369515\n",
            "\n",
            "Epochs: 4000, \tTraining Loss: 2.911628, \tValidation Loss: 5.213466\n",
            "\n",
            "Epochs: 4500, \tTraining Loss: 2.911284, \tValidation Loss: 5.133206\n",
            "\n",
            "Epochs: 5000, \tTraining Loss: 2.911191, \tValidation Loss: 5.091695\n",
            "\n"
          ]
        }
      ]
    },
    {
      "cell_type": "code",
      "source": [
        "nonLinearTraining = nonLinearTrainingLoop(5000, nonLinearOptimizer, nonLinearParams, train_t_un, val_t_un, train_t_c, val_t_c)\n"
      ],
      "metadata": {
        "colab": {
          "base_uri": "https://localhost:8080/"
        },
        "id": "oiu0DjTjz6ma",
        "outputId": "779a33ff-357b-4f91-a5b9-0c5a71ee94eb"
      },
      "execution_count": 61,
      "outputs": [
        {
          "output_type": "stream",
          "name": "stdout",
          "text": [
            "Epochs: 500, \tTraining Loss: 471.355530, \tValidation Loss: 1059.203491\n",
            "\n",
            "Epochs: 1000, \tTraining Loss: 401.162933, \tValidation Loss: 896.258301\n",
            "\n",
            "Epochs: 1500, \tTraining Loss: 338.674286, \tValidation Loss: 751.601562\n",
            "\n",
            "Epochs: 2000, \tTraining Loss: 283.181244, \tValidation Loss: 623.553162\n",
            "\n",
            "Epochs: 2500, \tTraining Loss: 234.106552, \tValidation Loss: 510.740997\n",
            "\n",
            "Epochs: 3000, \tTraining Loss: 190.975800, \tValidation Loss: 412.035004\n",
            "\n",
            "Epochs: 3500, \tTraining Loss: 153.393112, \tValidation Loss: 326.488373\n",
            "\n",
            "Epochs: 4000, \tTraining Loss: 121.015678, \tValidation Loss: 253.276428\n",
            "\n",
            "Epochs: 4500, \tTraining Loss: 93.532768, \tValidation Loss: 191.645645\n",
            "\n",
            "Epochs: 5000, \tTraining Loss: 70.644005, \tValidation Loss: 140.861404\n",
            "\n"
          ]
        }
      ]
    },
    {
      "cell_type": "code",
      "source": [
        "t_p_linear = linearModel(t_u, *linearParams).detach().numpy()\n",
        "t_p_nonLinear = nonLinearModel(t_u, *nonLinearParams).detach().numpy()\n",
        "\n",
        "plt.scatter(t_u, t_c, label = 'Data')\n",
        "plt.plot(t_u, t_p_linear, color = 'blue', label = 'Linear')\n",
        "plt.plot(t_u, t_p_nonLinear, color = 'green', label = 'Non Linear')\n",
        "plt.title('Comparison of Linear and Non-linear Models')\n",
        "plt.legend()\n",
        "plt.show()"
      ],
      "metadata": {
        "colab": {
          "base_uri": "https://localhost:8080/",
          "height": 452
        },
        "id": "S88oJHUUz-qf",
        "outputId": "f47a9a12-e5af-4b76-bde6-66638c25a423"
      },
      "execution_count": 64,
      "outputs": [
        {
          "output_type": "display_data",
          "data": {
            "text/plain": [
              "<Figure size 640x480 with 1 Axes>"
            ],
            "image/png": "[encoded data removed]"
          },
          "metadata": {}
        }
      ]
    }
  ]
}